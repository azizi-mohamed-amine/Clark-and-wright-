{
 "cells": [
  {
   "cell_type": "code",
   "execution_count": 62,
   "metadata": {},
   "outputs": [],
   "source": [
    "import numpy as np"
   ]
  },
  {
   "cell_type": "code",
   "execution_count": 63,
   "metadata": {},
   "outputs": [],
   "source": [
    "def savings(p): # Calculer les savings Sij = c1i + c1j - cij\n",
    "    n,n=p.shape\n",
    "    matrix_distances=np.zeros((n-1,n-1))\n",
    "    for j in range(1,n-1):\n",
    "        for k in range(j+1,n):\n",
    "            matrix_distances[j-1][k-1]=p[0][j]+p[0][k]-p[j][k]\n",
    "    return matrix_distances"
   ]
  },
  {
   "cell_type": "code",
   "execution_count": 64,
   "metadata": {},
   "outputs": [],
   "source": [
    "def indices(p): #extraire un dictionnaire  qui contient les distances entre les clients\n",
    "    dict={}\n",
    "    n,n=p.shape\n",
    "    for i in range(n):\n",
    "        for j in range(i+1,n):\n",
    "                dict.update({str(i+1)+'--'+str(j+1): p[i][j]})\n",
    "    return dict"
   ]
  },
  {
   "cell_type": "code",
   "execution_count": 65,
   "metadata": {},
   "outputs": [],
   "source": [
    "def trier(dict):  # trier les dictionnaire d'une maniere decroissante\n",
    "    dict_triee={}\n",
    "    l=list(dict.values())\n",
    "    l.sort(reverse = True)\n",
    "    for j in range(len(l)):\n",
    "        for key, value in dict.items():\n",
    "            if l[j]==value:\n",
    "                dict_triee.update({key:l[j]})\n",
    "    return dict_triee"
   ]
  },
  {
   "cell_type": "code",
   "execution_count": 66,
   "metadata": {},
   "outputs": [],
   "source": [
    "def li(dict): #convertir un dictionnaire à une liste \n",
    "    ff=[]\n",
    "    for key ,value in dict.items():\n",
    "        ff.append([int(key[0]),int(key[3])])   \n",
    "    return ff"
   ]
  },
  {
   "cell_type": "code",
   "execution_count": 67,
   "metadata": {},
   "outputs": [],
   "source": [
    "def gr(l,C):   #calculer les capacités des elements d'une liste 2 à 2\n",
    "    n=len(l)\n",
    "    re=list(range(0,n))\n",
    "    for i in range(n):\n",
    "        re[i]=C[1][l[i][0]-1]+C[1][l[i][1]-1]\n",
    "    return re"
   ]
  },
  {
   "cell_type": "code",
   "execution_count": 68,
   "metadata": {},
   "outputs": [],
   "source": [
    "def algorithme(l,C,c):  #obtenir un dictionnaire qui contient tous les chemins possible avec la capacité que la voiture va consomer danc chaque chemin\n",
    "    di={}\n",
    "    \n",
    "    n=len(l)\n",
    "    for i in range(n-1):\n",
    "        if (l[i][0]==l[i+1][0] or l[i][1]==l[i+1][0]) and (C[1][l[i][0]-1]+C[1][l[i][1]-1]+C[1][l[i+1][1]-1]<=c):\n",
    "                                                           di.update({str(0)+'-'+str(l[i][0])+'-'+str(l[i][1])+'-'+str(l[i+1][1])+'-'+str(0):C[1][l[i][0]-1]+C[1][l[i][1]-1]+C[1][l[i+1][1]-1]})\n",
    "                                                           \n",
    "                                                           \n",
    "                                                           \n",
    "        if (l[i][0]==l[i+1][1] or l[i][1]==l[i+1][1]) and (C[1][l[i][0]-1]+C[1][l[i][1]-1]+C[1][l[i+1][0]-1]<=c):\n",
    "                                                           di.update({str(0)+'-'+str(l[i][0])+'-'+str(l[i][1])+'-'+str(l[i+1][0])+'-'+str(0):C[1][l[i][0]-1]+C[1][l[i][1]-1]+C[1][l[i+1][0]-1]})\n",
    "                                                           \n",
    "                                                           \n",
    "    return di"
   ]
  },
  {
   "cell_type": "code",
   "execution_count": 69,
   "metadata": {},
   "outputs": [
    {
     "data": {
      "text/plain": [
       "array([[ 0, 28, 31, 20, 25, 34],\n",
       "       [ 0,  0, 21, 29, 26, 20],\n",
       "       [ 0,  0,  0, 38, 20, 32],\n",
       "       [ 0,  0,  0,  0, 30, 27],\n",
       "       [ 0,  0,  0,  0,  0, 25],\n",
       "       [ 0,  0,  0,  0,  0,  0]])"
      ]
     },
     "execution_count": 69,
     "metadata": {},
     "output_type": "execute_result"
    }
   ],
   "source": [
    "#exemple\n",
    "np.array([[0,28, 31,20,25,34 ],[0,0,21,29,26,20],[0,0,0,38,20,32],[0,0,0,0,30,27],[0,0,0,0,0,25],[0,0,0,0,0,0]])"
   ]
  },
  {
   "cell_type": "code",
   "execution_count": 70,
   "metadata": {},
   "outputs": [
    {
     "data": {
      "text/plain": [
       "array([[ 0., 38., 19., 27., 42.],\n",
       "       [ 0.,  0., 13., 36., 33.],\n",
       "       [ 0.,  0.,  0., 15., 27.],\n",
       "       [ 0.,  0.,  0.,  0., 34.],\n",
       "       [ 0.,  0.,  0.,  0.,  0.]])"
      ]
     },
     "execution_count": 70,
     "metadata": {},
     "output_type": "execute_result"
    }
   ],
   "source": [
    "savings(np.array([[0,28, 31,20,25,34 ],[0,0,21,29,26,20],[0,0,0,38,20,32],[0,0,0,0,30,27],[0,0,0,0,0,25],[0,0,0,0,0,0]]))"
   ]
  },
  {
   "cell_type": "code",
   "execution_count": 71,
   "metadata": {},
   "outputs": [
    {
     "data": {
      "text/plain": [
       "{'1--2': 38.0,\n",
       " '1--3': 19.0,\n",
       " '1--4': 27.0,\n",
       " '1--5': 42.0,\n",
       " '2--3': 13.0,\n",
       " '2--4': 36.0,\n",
       " '2--5': 33.0,\n",
       " '3--4': 15.0,\n",
       " '3--5': 27.0,\n",
       " '4--5': 34.0}"
      ]
     },
     "execution_count": 71,
     "metadata": {},
     "output_type": "execute_result"
    }
   ],
   "source": [
    "indices(waw(np.array([[0,28, 31,20,25,34 ],[0,0,21,29,26,20],[0,0,0,38,20,32],[0,0,0,0,30,27],[0,0,0,0,0,25],[0,0,0,0,0,0]])))"
   ]
  },
  {
   "cell_type": "code",
   "execution_count": 72,
   "metadata": {},
   "outputs": [
    {
     "data": {
      "text/plain": [
       "{'1--5': 42.0,\n",
       " '1--2': 38.0,\n",
       " '2--4': 36.0,\n",
       " '4--5': 34.0,\n",
       " '2--5': 33.0,\n",
       " '1--4': 27.0,\n",
       " '3--5': 27.0,\n",
       " '1--3': 19.0,\n",
       " '3--4': 15.0,\n",
       " '2--3': 13.0}"
      ]
     },
     "execution_count": 72,
     "metadata": {},
     "output_type": "execute_result"
    }
   ],
   "source": [
    "trier({'1--2': 38.0,\n",
    " '1--3': 19.0,\n",
    " '1--4': 27.0,\n",
    " '1--5': 42.0,\n",
    " '2--3': 13.0,\n",
    " '2--4': 36.0,\n",
    " '2--5': 33.0,\n",
    " '3--4': 15.0,\n",
    " '3--5': 27.0,\n",
    " '4--5': 34.0})"
   ]
  },
  {
   "cell_type": "code",
   "execution_count": 73,
   "metadata": {},
   "outputs": [
    {
     "data": {
      "text/plain": [
       "[[1, 5],\n",
       " [1, 2],\n",
       " [2, 4],\n",
       " [4, 5],\n",
       " [2, 5],\n",
       " [1, 4],\n",
       " [3, 5],\n",
       " [1, 3],\n",
       " [3, 4],\n",
       " [2, 3]]"
      ]
     },
     "execution_count": 73,
     "metadata": {},
     "output_type": "execute_result"
    }
   ],
   "source": [
    "li({'1--5': 69,'1--2': 72,'2--4': 60,'4--5': 57,'2--5': 67,'1--4': 62,'3--5': 62,'1--3': 67,'3--4': 55,'2--3': 65})"
   ]
  },
  {
   "cell_type": "code",
   "execution_count": 74,
   "metadata": {},
   "outputs": [
    {
     "data": {
      "text/plain": [
       "[69, 72, 60, 57, 67, 62, 62, 67, 55, 65]"
      ]
     },
     "execution_count": 74,
     "metadata": {},
     "output_type": "execute_result"
    }
   ],
   "source": [
    "gr([[1, 5],\n",
    " [1, 2],\n",
    " [2, 4],\n",
    " [4, 5],\n",
    " [2, 5],\n",
    " [1, 4],\n",
    " [3, 5],\n",
    " [1, 3],\n",
    " [3, 4],\n",
    " [2, 3]],[[1,2,3,4,5],[37,35,30,25,32]])"
   ]
  },
  {
   "cell_type": "code",
   "execution_count": 75,
   "metadata": {},
   "outputs": [
    {
     "data": {
      "text/plain": [
       "{'0-1-2-4-0': 97,\n",
       " '0-2-4-5-0': 92,\n",
       " '0-4-5-2-0': 92,\n",
       " '0-3-5-1-0': 99,\n",
       " '0-1-3-4-0': 92,\n",
       " '0-3-4-2-0': 90}"
      ]
     },
     "execution_count": 75,
     "metadata": {},
     "output_type": "execute_result"
    }
   ],
   "source": [
    "gtl([[1, 5],\n",
    " [1, 2],\n",
    " [2, 4],\n",
    " [4, 5],\n",
    " [2, 5],\n",
    " [1, 4],\n",
    " [3, 5],\n",
    " [1, 3],\n",
    " [3, 4],\n",
    " [2, 3]],[[1,2,3,4,5],[37,35,30,25,32]],100)"
   ]
  },
  {
   "cell_type": "code",
   "execution_count": null,
   "metadata": {},
   "outputs": [],
   "source": []
  }
 ],
 "metadata": {
  "kernelspec": {
   "display_name": "Python 3",
   "language": "python",
   "name": "python3"
  },
  "language_info": {
   "codemirror_mode": {
    "name": "ipython",
    "version": 3
   },
   "file_extension": ".py",
   "mimetype": "text/x-python",
   "name": "python",
   "nbconvert_exporter": "python",
   "pygments_lexer": "ipython3",
   "version": "3.7.9"
  }
 },
 "nbformat": 4,
 "nbformat_minor": 4
}
